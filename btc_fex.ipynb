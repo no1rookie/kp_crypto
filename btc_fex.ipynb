{
 "cells": [
  {
   "cell_type": "code",
   "execution_count": 10,
   "metadata": {},
   "outputs": [
    {
     "name": "stdout",
     "output_type": "stream",
     "text": [
      "Full Binance data saved.\n"
     ]
    }
   ],
   "source": [
    "import requests\n",
    "import pandas as pd\n",
    "from datetime import datetime, timedelta\n",
    "import time\n",
    "from binance.client import Client\n",
    "\n",
    "\n",
    "# Your Binance API credentials\n",
    "api_key = 'Ta0xEGr3ogYlT7L4hxzgMV8zIOxDGChCqbdHuV1ZxG6pqCtdvSJ1KS5ZMq2XX9Uk'\n",
    "api_secret = 'JqwryeIAHF1aISI0G1Z4X8zIRwU9YIoUIWCq3OOC3OpZrs1BMi1i7iv369aDZTp4'\n",
    "\n",
    "\n",
    "# Initialize the Binance client\n",
    "client = Client(api_key, api_secret)\n",
    "\n",
    "# Function to fetch historical data using python-binance\n",
    "def get_binance_data(symbol, interval, start_time, end_time):\n",
    "    # Fetch historical klines (candlestick data)\n",
    "    klines = client.get_historical_klines(symbol, interval, start_time, end_time)\n",
    "\n",
    "    # Convert the data into a pandas DataFrame\n",
    "    df = pd.DataFrame(klines, columns=[\n",
    "        'timestamp', 'Open', 'High', 'Low', 'Close', 'Volume', 'close_time',\n",
    "        'quote_asset_volume', 'num_trades', 'taker_buy_base_asset_volume', 'taker_buy_quote_asset_volume', 'ignore'\n",
    "    ])\n",
    "    \n",
    "    # Convert timestamp to a readable format\n",
    "    df['timestamp'] = pd.to_datetime(df['timestamp'], unit='ms')\n",
    "\n",
    "    return df\n",
    "\n",
    "# Define the start and end time for the data (Binance expects a string for dates)\n",
    "start_time = \"2024-09-22 00:00:00\"\n",
    "end_time = datetime.utcnow().strftime(\"%Y-%m-%d %H:%M:%S\")\n",
    "\n",
    "# Fetch the data\n",
    "binance_df = get_binance_data(\"BTCUSDT\", Client.KLINE_INTERVAL_1MINUTE, start_time, end_time)\n",
    "\n",
    "# Save to CSV\n",
    "binance_df.to_csv(\"binance_btcusdt_full.csv\", index=False)\n",
    "print(\"Full Binance data saved.\")"
   ]
  },
  {
   "cell_type": "code",
   "execution_count": 22,
   "metadata": {},
   "outputs": [
    {
     "name": "stdout",
     "output_type": "stream",
     "text": [
      "Fetching data from 2024-09-21 07:24:07.961317 to 2024-09-28 07:24:07.961317...\n",
      "Error fetching data from Gate.io: 400, Response: {\"label\":\"INVALID_PARAM_VALUE\",\"message\":\"Candlestick too long ago. Maximum 10000 points ago are allowed\"}\n",
      "No data received or an error occurred.\n",
      "No data to save.\n"
     ]
    }
   ],
   "source": [
    "import requests\n",
    "import pandas as pd\n",
    "from datetime import datetime, timedelta\n",
    "\n",
    "# Function to fetch candles from Gate.io\n",
    "def fetch_gateio_candles(symbol, interval, limit=1000, start_time=None):\n",
    "    url = f\"https://api.gateio.ws/api/v4/spot/candlesticks\"\n",
    "    params = {\n",
    "        'currency_pair': symbol,\n",
    "        'interval': interval,\n",
    "        'limit': limit  # Maximum limit per request\n",
    "    }\n",
    "\n",
    "    if start_time:\n",
    "        params['from'] = int(start_time.timestamp())  # Gate.io expects UNIX time in seconds\n",
    "\n",
    "    response = requests.get(url, params=params)\n",
    "\n",
    "    if response.status_code == 200:\n",
    "        return response.json()\n",
    "    else:\n",
    "        print(f\"Error fetching data from Gate.io: {response.status_code}, Response: {response.text}\")\n",
    "        return []\n",
    "\n",
    "# Function to fetch last 6 days of 1-minute candles\n",
    "def get_gateio_last_6_days(symbol, interval):\n",
    "    all_data = []\n",
    "    current_time = datetime.utcnow()\n",
    "    start_time = current_time - timedelta(days=7)  # Start from 6 days ago\n",
    "\n",
    "    print(f\"Fetching data from {start_time} to {current_time}...\")\n",
    "    candles = fetch_gateio_candles(symbol, interval, start_time=start_time)\n",
    "\n",
    "    if candles:\n",
    "        all_data.extend(candles)\n",
    "    else:\n",
    "        print(\"No data received or an error occurred.\")\n",
    "\n",
    "    # Inspect the first entry to see the structure of the returned data\n",
    "    if all_data:\n",
    "        print(f\"Sample data: {all_data[0]}\")  # Print the first row to inspect the data\n",
    "\n",
    "    # Create the DataFrame with the correct number of columns based on the data returned\n",
    "    columns = ['timestamp', 'Close', 'Volume', 'High', 'Low', 'Open', 'quote_volume', 'extra_column']  # Adjust the columns as needed\n",
    "    df = pd.DataFrame(all_data, columns=columns)\n",
    "\n",
    "    # Convert the timestamp to a readable datetime\n",
    "    df['timestamp'] = pd.to_datetime(df['timestamp'], unit='s', utc=True)\n",
    "\n",
    "    return df\n",
    "\n",
    "# Example usage for Gate.io:\n",
    "gateio_df = get_gateio_last_6_days(\"BTC_USDT\", \"1m\")  # Fetch last 6 days of 1-minute candles from Gate.io\n",
    "\n",
    "# Save the data to a CSV file\n",
    "if not gateio_df.empty:\n",
    "    gateio_df.to_csv(\"gateio_btcusdt_last_6_days.csv\", index=False)\n",
    "    print(\"Full Gate.io data saved.\")\n",
    "else:\n",
    "    print(\"No data to save.\")"
   ]
  }
 ],
 "metadata": {
  "kernelspec": {
   "display_name": "Python 3",
   "language": "python",
   "name": "python3"
  },
  "language_info": {
   "codemirror_mode": {
    "name": "ipython",
    "version": 3
   },
   "file_extension": ".py",
   "mimetype": "text/x-python",
   "name": "python",
   "nbconvert_exporter": "python",
   "pygments_lexer": "ipython3",
   "version": "3.9.6"
  }
 },
 "nbformat": 4,
 "nbformat_minor": 2
}
